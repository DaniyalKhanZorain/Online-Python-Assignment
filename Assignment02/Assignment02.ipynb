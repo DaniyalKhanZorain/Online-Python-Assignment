{
 "cells": [
  {
   "cell_type": "code",
   "execution_count": 1,
   "id": "52b00960",
   "metadata": {},
   "outputs": [
    {
     "name": "stdout",
     "output_type": "stream",
     "text": [
      "Daniyal Khan Zorain\n"
     ]
    }
   ],
   "source": [
    "print(\"Daniyal Khan Zorain\");"
   ]
  },
  {
   "cell_type": "code",
   "execution_count": 2,
   "id": "652438da",
   "metadata": {},
   "outputs": [
    {
     "name": "stdout",
     "output_type": "stream",
     "text": [
      "Assignment: 02\n"
     ]
    }
   ],
   "source": [
    "print(\"Assignment: 02\");"
   ]
  },
  {
   "cell_type": "code",
   "execution_count": 64,
   "id": "d8b0e948",
   "metadata": {},
   "outputs": [
    {
     "name": "stdout",
     "output_type": "stream",
     "text": [
      "danikhan1999khi@gmail.com\n"
     ]
    }
   ],
   "source": [
    "print(\"danikhan1999khi@gmail.com\");"
   ]
  },
  {
   "cell_type": "code",
   "execution_count": 20,
   "id": "94c486a4",
   "metadata": {},
   "outputs": [],
   "source": [
    "english = 87\n",
    "maths = 94\n",
    "isl = 71"
   ]
  },
  {
   "cell_type": "code",
   "execution_count": 21,
   "id": "50a6000e",
   "metadata": {},
   "outputs": [],
   "source": [
    "obtain_marks = english + maths + isl"
   ]
  },
  {
   "cell_type": "code",
   "execution_count": 22,
   "id": "a573a5f6",
   "metadata": {},
   "outputs": [],
   "source": [
    "total_marks = 300"
   ]
  },
  {
   "cell_type": "code",
   "execution_count": 23,
   "id": "3c2bd58e",
   "metadata": {},
   "outputs": [],
   "source": [
    "percentage = (obtain_marks/total_marks) * 100"
   ]
  },
  {
   "cell_type": "code",
   "execution_count": 24,
   "id": "08e615d6",
   "metadata": {},
   "outputs": [
    {
     "data": {
      "text/plain": [
       "84.0"
      ]
     },
     "execution_count": 24,
     "metadata": {},
     "output_type": "execute_result"
    }
   ],
   "source": [
    "percentage"
   ]
  },
  {
   "cell_type": "code",
   "execution_count": 25,
   "id": "7cafee51",
   "metadata": {},
   "outputs": [
    {
     "name": "stdout",
     "output_type": "stream",
     "text": [
      "Grade A+\n"
     ]
    }
   ],
   "source": [
    "if percentage >= 100:\n",
    "    print(\"Wrong Input\");\n",
    "elif percentage >= 80 and percentage < 100:\n",
    "    print(\"Grade A+\");\n",
    "elif percentage>=70 and percentage<80:\n",
    "    print(\"Grade A\");\n",
    "elif percentage>=60 and percentage<70:\n",
    "    print(\"Grade B\");\n",
    "elif percentage>=50 and percentage<60:\n",
    "    print(\"Grade C\");\n",
    "elif percentage>=40 and percentage<70:\n",
    "    print(\"Grade D\");\n",
    "elif percentage>0 and percentage<40:\n",
    "    print(\"Grade Fail\");\n",
    "else:\n",
    "    print(\"Wrong Input\");"
   ]
  },
  {
   "cell_type": "code",
   "execution_count": null,
   "id": "f61e70ad",
   "metadata": {},
   "outputs": [],
   "source": []
  },
  {
   "cell_type": "code",
   "execution_count": null,
   "id": "6676d0da",
   "metadata": {},
   "outputs": [],
   "source": []
  }
 ],
 "metadata": {
  "kernelspec": {
   "display_name": "Python 3",
   "language": "python",
   "name": "python3"
  },
  "language_info": {
   "codemirror_mode": {
    "name": "ipython",
    "version": 3
   },
   "file_extension": ".py",
   "mimetype": "text/x-python",
   "name": "python",
   "nbconvert_exporter": "python",
   "pygments_lexer": "ipython3",
   "version": "3.8.8"
  }
 },
 "nbformat": 4,
 "nbformat_minor": 5
}
