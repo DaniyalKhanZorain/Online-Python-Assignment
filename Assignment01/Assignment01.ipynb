{
 "cells": [
  {
   "cell_type": "code",
   "execution_count": 2,
   "id": "0ceacc27",
   "metadata": {},
   "outputs": [
    {
     "name": "stdout",
     "output_type": "stream",
     "text": [
      "Hello Daniyal Khan Zorain\n"
     ]
    }
   ],
   "source": [
    "print(\"Hello Daniyal Khan Zorain\");"
   ]
  },
  {
   "cell_type": "code",
   "execution_count": 3,
   "id": "cdedd4af",
   "metadata": {},
   "outputs": [
    {
     "name": "stdout",
     "output_type": "stream",
     "text": [
      "danikhan1999khi@gmail.com\n"
     ]
    }
   ],
   "source": [
    "print(\"danikhan1999khi@gmail.com\");"
   ]
  },
  {
   "cell_type": "code",
   "execution_count": 4,
   "id": "735c5201",
   "metadata": {},
   "outputs": [
    {
     "name": "stdout",
     "output_type": "stream",
     "text": [
      "Python Programming Introduction Class # 1\n"
     ]
    }
   ],
   "source": [
    "print(\"Python Programming Introduction Class # 1\");"
   ]
  },
  {
   "cell_type": "code",
   "execution_count": 5,
   "id": "8a95ba9c",
   "metadata": {},
   "outputs": [
    {
     "name": "stdout",
     "output_type": "stream",
     "text": [
      "Assignmment: 01\n"
     ]
    }
   ],
   "source": [
    "print(\"Assignmment: 01\");"
   ]
  },
  {
   "cell_type": "code",
   "execution_count": null,
   "id": "d7e8a808",
   "metadata": {},
   "outputs": [],
   "source": []
  }
 ],
 "metadata": {
  "kernelspec": {
   "display_name": "Python 3",
   "language": "python",
   "name": "python3"
  },
  "language_info": {
   "codemirror_mode": {
    "name": "ipython",
    "version": 3
   },
   "file_extension": ".py",
   "mimetype": "text/x-python",
   "name": "python",
   "nbconvert_exporter": "python",
   "pygments_lexer": "ipython3",
   "version": "3.8.8"
  }
 },
 "nbformat": 4,
 "nbformat_minor": 5
}
