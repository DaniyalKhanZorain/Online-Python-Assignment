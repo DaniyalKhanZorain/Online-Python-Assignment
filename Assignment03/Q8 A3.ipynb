{
 "cells": [
  {
   "cell_type": "code",
   "execution_count": 6,
   "id": "01ca4d44",
   "metadata": {},
   "outputs": [
    {
     "name": "stdout",
     "output_type": "stream",
     "text": [
      "Input any number: 67\n",
      "Odd\n"
     ]
    }
   ],
   "source": [
    "num = int(input(\"Input any number: \"));\n",
    "mod = num%2\n",
    "if mod>0:\n",
    "    print(\"Odd\");\n",
    "else:\n",
    "    print(\"Even\");"
   ]
  },
  {
   "cell_type": "code",
   "execution_count": 7,
   "id": "588fa8f7",
   "metadata": {},
   "outputs": [
    {
     "name": "stdout",
     "output_type": "stream",
     "text": [
      "Input any number: 46\n",
      "Even\n"
     ]
    }
   ],
   "source": [
    "num = int(input(\"Input any number: \"));\n",
    "mod = num%2\n",
    "if mod>0:\n",
    "    print(\"Odd\");\n",
    "else:\n",
    "    print(\"Even\");"
   ]
  },
  {
   "cell_type": "code",
   "execution_count": null,
   "id": "1c546b55",
   "metadata": {},
   "outputs": [],
   "source": []
  }
 ],
 "metadata": {
  "kernelspec": {
   "display_name": "Python 3",
   "language": "python",
   "name": "python3"
  },
  "language_info": {
   "codemirror_mode": {
    "name": "ipython",
    "version": 3
   },
   "file_extension": ".py",
   "mimetype": "text/x-python",
   "name": "python",
   "nbconvert_exporter": "python",
   "pygments_lexer": "ipython3",
   "version": "3.8.8"
  }
 },
 "nbformat": 4,
 "nbformat_minor": 5
}
