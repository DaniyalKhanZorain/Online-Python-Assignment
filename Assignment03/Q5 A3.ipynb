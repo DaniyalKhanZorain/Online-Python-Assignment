{
 "cells": [
  {
   "cell_type": "code",
   "execution_count": 4,
   "id": "7e405cd1",
   "metadata": {},
   "outputs": [
    {
     "name": "stdout",
     "output_type": "stream",
     "text": [
      "Input your First Name : Daniyal\n",
      "Input your Middle Name : Khan\n",
      "Input your Last Name : Zorain\n",
      "Zorain\tKhan\tDaniyal\n"
     ]
    }
   ],
   "source": [
    "firstname = input(\"Input your First Name : \");\n",
    "middlename = input(\"Input your Middle Name : \");\n",
    "lastname = input(\"Input your Last Name : \");\n",
    "print (lastname+\"\\t\"+middlename+\"\\t\"+firstname);\n"
   ]
  },
  {
   "cell_type": "code",
   "execution_count": null,
   "id": "8cf9d93a",
   "metadata": {},
   "outputs": [],
   "source": []
  }
 ],
 "metadata": {
  "kernelspec": {
   "display_name": "Python 3",
   "language": "python",
   "name": "python3"
  },
  "language_info": {
   "codemirror_mode": {
    "name": "ipython",
    "version": 3
   },
   "file_extension": ".py",
   "mimetype": "text/x-python",
   "name": "python",
   "nbconvert_exporter": "python",
   "pygments_lexer": "ipython3",
   "version": "3.8.8"
  }
 },
 "nbformat": 4,
 "nbformat_minor": 5
}
