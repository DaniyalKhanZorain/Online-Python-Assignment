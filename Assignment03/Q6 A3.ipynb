{
 "cells": [
  {
   "cell_type": "code",
   "execution_count": 1,
   "id": "56c24656",
   "metadata": {},
   "outputs": [
    {
     "name": "stdout",
     "output_type": "stream",
     "text": [
      "Input first number: 56\n",
      "Input second number: 76\n",
      "The sum of two input is 132\n"
     ]
    }
   ],
   "source": [
    "i = int(input(\"Input first number: \"));\n",
    "j = int(input(\"Input second number: \"));\n",
    "k = i+j;\n",
    "print(\"The sum of two input is\", k);"
   ]
  },
  {
   "cell_type": "code",
   "execution_count": 3,
   "id": "5c0ebc8d",
   "metadata": {},
   "outputs": [
    {
     "name": "stdout",
     "output_type": "stream",
     "text": [
      "Enter first input: Daniyal\n",
      "Enter second input: Khan\n",
      "The addition of two input is DaniyalKhan\n"
     ]
    }
   ],
   "source": [
    "l = str(input(\"Enter first input: \"));\n",
    "m = str(input(\"Enter second input: \"));\n",
    "n = l+m;\n",
    "print(\"The addition of two input is\", n);"
   ]
  },
  {
   "cell_type": "code",
   "execution_count": null,
   "id": "d21b3372",
   "metadata": {},
   "outputs": [],
   "source": []
  }
 ],
 "metadata": {
  "kernelspec": {
   "display_name": "Python 3",
   "language": "python",
   "name": "python3"
  },
  "language_info": {
   "codemirror_mode": {
    "name": "ipython",
    "version": 3
   },
   "file_extension": ".py",
   "mimetype": "text/x-python",
   "name": "python",
   "nbconvert_exporter": "python",
   "pygments_lexer": "ipython3",
   "version": "3.8.8"
  }
 },
 "nbformat": 4,
 "nbformat_minor": 5
}
